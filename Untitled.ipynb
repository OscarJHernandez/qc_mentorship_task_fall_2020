{
 "cells": [
  {
   "cell_type": "code",
   "execution_count": 1,
   "metadata": {},
   "outputs": [],
   "source": [
    "import pennylane as qml\n",
    "import numpy as np\n",
    "import torch\n",
    "from torch.autograd import Variable"
   ]
  },
  {
   "cell_type": "code",
   "execution_count": 2,
   "metadata": {},
   "outputs": [],
   "source": [
    "v = np.random.rand(0,1,3)\n",
    "\n",
    "purity = 0.66\n",
    "\n",
    "\n",
    "bloch_v = np.sqrt(2*purity-1)*v/np.sqrt(np.sum(v**2))\n",
    "\n",
    "# The Pauli matrices\n",
    "\n",
    "# array of Pauli matrices (will be useful later)\n",
    "Paulis = np.zeros((3, 2, 2), dtype=complex)\n",
    "Paulis[0] = [[0, 1], [1, 0]]\n",
    "Paulis[1] = [[0, -1j], [1j, 0]]\n",
    "Paulis[2] = [[1, 0], [0, -1]]"
   ]
  },
  {
   "cell_type": "code",
   "execution_count": 4,
   "metadata": {},
   "outputs": [],
   "source": [
    "nr_qubits = 3\n",
    "nr_layers = 2\n",
    "\n",
    "\n",
    "# Initialize parameters \n",
    "params = np.random.normal(0,np.pi,(nr_qubits,nr_layers,3))\n",
    "params = Variable(torch.tensor(params), requires_grad=True)"
   ]
  },
  {
   "cell_type": "code",
   "execution_count": null,
   "metadata": {},
   "outputs": [],
   "source": [
    "def layer(params,j):\n",
    "    \n",
    "    for i in range(nr_qubits):\n",
    "        qml.RX(params[i,j,0],wires=i)\n",
    "        qml.RY(params[i,j,1],)"
   ]
  }
 ],
 "metadata": {
  "kernelspec": {
   "display_name": "pennylane",
   "language": "python",
   "name": "pennylane"
  },
  "language_info": {
   "codemirror_mode": {
    "name": "ipython",
    "version": 3
   },
   "file_extension": ".py",
   "mimetype": "text/x-python",
   "name": "python",
   "nbconvert_exporter": "python",
   "pygments_lexer": "ipython3",
   "version": "3.6.11"
  }
 },
 "nbformat": 4,
 "nbformat_minor": 4
}
